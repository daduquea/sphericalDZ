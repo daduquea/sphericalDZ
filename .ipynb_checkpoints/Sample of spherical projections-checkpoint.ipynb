{
 "cells": [
  {
   "cell_type": "code",
   "execution_count": 1,
   "metadata": {},
   "outputs": [
    {
     "name": "stderr",
     "output_type": "stream",
     "text": [
      "Using TensorFlow backend.\n"
     ]
    }
   ],
   "source": [
    "import numpy as np\n",
    "import matplotlib.pyplot as plt\n",
    "import os.path as pt\n",
    "import os\n",
    "from laspy.file import File\n",
    "import sys\n",
    "\n",
    "import matplotlib.pyplot as plt\n",
    "# insert at 1, 0 is the script path (or '' in REPL)\n",
    "sys.path.insert(1, '/home/dduque/Dropbox/PHD/phd/Code/code/ColorLines/Notebook/2019/2A/Deep/SHREC2020/utils/')\n",
    "\n",
    "from projection import Projection\n",
    "from projection_old import Projection as Proj_old\n",
    "from utils_challenge import *\n",
    "from utils_projections import *"
   ]
  },
  {
   "cell_type": "code",
   "execution_count": 2,
   "metadata": {},
   "outputs": [
    {
     "name": "stdout",
     "output_type": "stream",
     "text": [
      "input_data/validation/\n"
     ]
    }
   ],
   "source": [
    "file_name = '5D4KVPIN.txt'\n",
    "\n",
    "name = 'validation'\n",
    "path_to_files_4_scanner = 'input_data/' + name + '/'           \n",
    "parameters_path = 'input_data//'\n",
    "print(path_to_files_4_scanner)"
   ]
  },
  {
   "cell_type": "code",
   "execution_count": 3,
   "metadata": {},
   "outputs": [],
   "source": [
    "class_names = ['undefined', 'building', 'car', 'ground', 'pole', 'vegetation']"
   ]
  },
  {
   "cell_type": "code",
   "execution_count": 4,
   "metadata": {},
   "outputs": [],
   "source": [
    "width_sph = 1024\n",
    "height_sph = 64\n",
    "fov_up = 50\n",
    "fov_down = 115\n",
    "\n",
    "proj_sph = Proj_old(proj_type='front', width=1024, height=64, fov_up=fov_up, fov_down=fov_down)"
   ]
  },
  {
   "cell_type": "code",
   "execution_count": 10,
   "metadata": {},
   "outputs": [
    {
     "ename": "NameError",
     "evalue": "name 'base_output_data' is not defined",
     "output_type": "error",
     "traceback": [
      "\u001b[0;31m---------------------------------------------------------------------------\u001b[0m",
      "\u001b[0;31mNameError\u001b[0m                                 Traceback (most recent call last)",
      "\u001b[0;32m<ipython-input-10-71d332b78787>\u001b[0m in \u001b[0;36m<module>\u001b[0;34m\u001b[0m\n\u001b[1;32m      1\u001b[0m \u001b[0mnorm_name\u001b[0m \u001b[0;34m=\u001b[0m \u001b[0;34m'normalization_parameters'\u001b[0m\u001b[0;34m\u001b[0m\u001b[0;34m\u001b[0m\u001b[0m\n\u001b[0;32m----> 2\u001b[0;31m \u001b[0mfull_norm_name\u001b[0m \u001b[0;34m=\u001b[0m \u001b[0mos\u001b[0m\u001b[0;34m.\u001b[0m\u001b[0mpath\u001b[0m\u001b[0;34m.\u001b[0m\u001b[0mjoin\u001b[0m\u001b[0;34m(\u001b[0m\u001b[0mbase_output_data\u001b[0m\u001b[0;34m,\u001b[0m \u001b[0mnorm_name\u001b[0m\u001b[0;34m)\u001b[0m\u001b[0;34m\u001b[0m\u001b[0;34m\u001b[0m\u001b[0m\n\u001b[0m\u001b[1;32m      3\u001b[0m \u001b[0mnormalization_parameters\u001b[0m \u001b[0;34m=\u001b[0m \u001b[0mload_obj\u001b[0m\u001b[0;34m(\u001b[0m\u001b[0mfull_norm_name\u001b[0m\u001b[0;34m)\u001b[0m\u001b[0;34m\u001b[0m\u001b[0;34m\u001b[0m\u001b[0m\n",
      "\u001b[0;31mNameError\u001b[0m: name 'base_output_data' is not defined"
     ]
    }
   ],
   "source": [
    "norm_name = 'normalization_parameters'\n",
    "full_norm_name = os.path.join(base_output_data, norm_name)\n",
    "normalization_parameters = load_obj(full_norm_name)"
   ]
  },
  {
   "cell_type": "code",
   "execution_count": null,
   "metadata": {},
   "outputs": [],
   "source": []
  }
 ],
 "metadata": {
  "kernelspec": {
   "display_name": "Python 3",
   "language": "python",
   "name": "python3"
  },
  "language_info": {
   "codemirror_mode": {
    "name": "ipython",
    "version": 3
   },
   "file_extension": ".py",
   "mimetype": "text/x-python",
   "name": "python",
   "nbconvert_exporter": "python",
   "pygments_lexer": "ipython3",
   "version": "3.6.8"
  }
 },
 "nbformat": 4,
 "nbformat_minor": 2
}
